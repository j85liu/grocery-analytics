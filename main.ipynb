{
 "cells": [
  {
   "cell_type": "code",
   "execution_count": 1,
   "id": "54243ce0",
   "metadata": {},
   "outputs": [],
   "source": [
    "import pandas as pd\n",
    "import numpy as np\n",
    "import matplotlib.pyplot as plt\n",
    "from datetime import datetime, timedelta\n",
    "import warnings\n",
    "\n",
    "# Random seed\n",
    "np.random.seed(42)\n"
   ]
  },
  {
   "cell_type": "code",
   "execution_count": null,
   "id": "f7be0267",
   "metadata": {},
   "outputs": [],
   "source": [
    "# Generate sample grocery store data\n",
    "\n",
    "def generate_grocery_data():\n",
    "    # Date range: 3 months of daily data\n",
    "    start_date = datetime(2024, 1, 1)\n",
    "    end_date = datetime(2024, 3, 1)\n",
    "    dates = pd.date_range(start_date, end_date, freq='D')\n",
    "\n",
    "    # Store and product info\n",
    "    stores = ['Store_001', 'Store_002', 'Store_003', 'Store_004', 'Store_005']\n",
    "    products = {\n",
    "        'Bananas': {'category': 'Fresh Produce', 'avg_price': 1.99, 'perishable': True},\n",
    "        'Apples': {'category': 'Fresh Produce', 'avg_price': 3.49, 'perishable': True},\n",
    "        'Milk': {'category': 'Dairy', 'avg_price': 4.29, 'perishable': True},\n",
    "        'Bread': {'category': 'Bakery', 'avg_price': 2.99, 'perishable': True},\n",
    "        'Canned Beans': {'category': 'Pantry', 'avg_price': 1.89, 'perishable': False},\n",
    "        'Rice': {'category': 'Pantry', 'avg_price': 5.99, 'perishable': False},\n",
    "        'Chicken Breast': {'category': 'Meat', 'avg_price': 8.99, 'perishable': True},\n",
    "        'Yogurt': {'category': 'Dairy', 'avg_price': 5.49, 'perishable': True}\n",
    "    }"
   ]
  },
  {
   "cell_type": "code",
   "execution_count": null,
   "id": "1b609470",
   "metadata": {},
   "outputs": [],
   "source": []
  }
 ],
 "metadata": {
  "kernelspec": {
   "display_name": "base",
   "language": "python",
   "name": "python3"
  },
  "language_info": {
   "codemirror_mode": {
    "name": "ipython",
    "version": 3
   },
   "file_extension": ".py",
   "mimetype": "text/x-python",
   "name": "python",
   "nbconvert_exporter": "python",
   "pygments_lexer": "ipython3",
   "version": "3.11.7"
  }
 },
 "nbformat": 4,
 "nbformat_minor": 5
}
