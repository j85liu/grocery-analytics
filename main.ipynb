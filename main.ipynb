{
 "cells": [
  {
   "cell_type": "code",
   "execution_count": 1,
   "id": "54243ce0",
   "metadata": {},
   "outputs": [],
   "source": [
    "import pandas as pd\n",
    "import numpy as np\n",
    "import matplotlib.pyplot as plt\n",
    "from datetime import datetime, timedelta\n",
    "import warnings\n",
    "\n",
    "# Random seed\n",
    "np.random.seed(42)\n"
   ]
  },
  {
   "cell_type": "code",
   "execution_count": 3,
   "id": "f7be0267",
   "metadata": {},
   "outputs": [
    {
     "name": "stdout",
     "output_type": "stream",
     "text": [
      "Generated dataset with 2440 rows\n",
      "Date range: 2024-01-01 00:00:00 to 2024-03-01 00:00:00\n"
     ]
    }
   ],
   "source": [
    "# Generate sample grocery store data\n",
    "\n",
    "def generate_grocery_data():\n",
    "    # Date range: 3 months of daily data\n",
    "    start_date = datetime(2024, 1, 1)\n",
    "    end_date = datetime(2024, 3, 1)\n",
    "    dates = pd.date_range(start_date, end_date, freq='D')\n",
    "\n",
    "    # Store and product info\n",
    "    stores = ['Store_001', 'Store_002', 'Store_003', 'Store_004', 'Store_005']\n",
    "    products = {\n",
    "        'Bananas': {'category': 'Fresh Produce', 'avg_price': 1.99, 'perishable': True},\n",
    "        'Apples': {'category': 'Fresh Produce', 'avg_price': 3.49, 'perishable': True},\n",
    "        'Milk': {'category': 'Dairy', 'avg_price': 4.29, 'perishable': True},\n",
    "        'Bread': {'category': 'Bakery', 'avg_price': 2.99, 'perishable': True},\n",
    "        'Canned Beans': {'category': 'Pantry', 'avg_price': 1.89, 'perishable': False},\n",
    "        'Rice': {'category': 'Pantry', 'avg_price': 5.99, 'perishable': False},\n",
    "        'Chicken Breast': {'category': 'Meat', 'avg_price': 8.99, 'perishable': True},\n",
    "        'Yogurt': {'category': 'Dairy', 'avg_price': 5.49, 'perishable': True}\n",
    "    }\n",
    "\n",
    "    # Generate data\n",
    "    data = []\n",
    "    for date in dates:\n",
    "        for store in stores:\n",
    "            for product, info in products.items():\n",
    "                # Add some seasonality and randomness\n",
    "                base_demand = np.random.poisson(50)\n",
    "\n",
    "                # Weekend boost\n",
    "                if date.weekday() >= 5:\n",
    "                    base_demand *= 1.3\n",
    "\n",
    "                # Perishables have more variation\n",
    "                if info['perishable']:\n",
    "                    base_demand *= np.random.uniform(0.7, 1.4)\n",
    "                \n",
    "                # Occasional stockouts (missing data)\n",
    "                if np.random.random() < 0.05:  # 5% chance of missing data\n",
    "                    quantity_sold = np.nan\n",
    "                    revenue = np.nan\n",
    "                else:\n",
    "                    quantity_sold = max(0, int(base_demand))\n",
    "                    price_variation = np.random.uniform(0.9, 1.1)  # ±10% price variation\n",
    "                    unit_price = info['avg_price'] * price_variation\n",
    "                    revenue = quantity_sold * unit_price\n",
    "                \n",
    "                data.append({\n",
    "                    'date': date,\n",
    "                    'store_id': store,\n",
    "                    'product_name': product,\n",
    "                    'category': info['category'],\n",
    "                    'quantity_sold': quantity_sold,\n",
    "                    'unit_price': info['avg_price'] * np.random.uniform(0.9, 1.1),\n",
    "                    'revenue': revenue,\n",
    "                    'is_perishable': info['perishable']\n",
    "                })\n",
    "    \n",
    "    return pd.DataFrame(data)\n",
    "\n",
    "# Generate the dataset\n",
    "df = generate_grocery_data()\n",
    "print(f\"Generated dataset with {len(df)} rows\")\n",
    "print(f\"Date range: {df['date'].min()} to {df['date'].max()}\")\n"
   ]
  },
  {
   "cell_type": "code",
   "execution_count": 7,
   "id": "1b609470",
   "metadata": {},
   "outputs": [
    {
     "name": "stdout",
     "output_type": "stream",
     "text": [
      "====== DATASET OVERVIEW =======\n",
      "Shape:  {(2440, 8)}\n",
      "\n",
      "Column Types: \n",
      "date             datetime64[ns]\n",
      "store_id                 object\n",
      "product_name             object\n",
      "category                 object\n",
      "quantity_sold           float64\n",
      "unit_price              float64\n",
      "revenue                 float64\n",
      "is_perishable              bool\n",
      "dtype: object\n",
      "\n",
      "Memory usage: 0.53 MB\n"
     ]
    }
   ],
   "source": [
    "# Load and Explore data\n",
    "print(\"====== DATASET OVERVIEW =======\")\n",
    "print(f\"Shape: \" ,{df.shape})\n",
    "print(f\"\\nColumn Types: \")\n",
    "print(df.dtypes)\n",
    "print(f\"\\nMemory usage: {df.memory_usage(deep=True).sum() / 1024**2:.2f} MB\")"
   ]
  },
  {
   "cell_type": "code",
   "execution_count": 12,
   "id": "06d84c76",
   "metadata": {},
   "outputs": [
    {
     "name": "stdout",
     "output_type": "stream",
     "text": [
      "DF head:          date   store_id  product_name       category  quantity_sold  \\\n",
      "0 2024-01-01  Store_001       Bananas  Fresh Produce           56.0   \n",
      "1 2024-01-01  Store_001        Apples  Fresh Produce           37.0   \n",
      "2 2024-01-01  Store_001          Milk          Dairy           39.0   \n",
      "3 2024-01-01  Store_001         Bread         Bakery           47.0   \n",
      "4 2024-01-01  Store_001  Canned Beans         Pantry           43.0   \n",
      "\n",
      "   unit_price     revenue  is_perishable  \n",
      "0    1.853086  103.773343           True  \n",
      "1    3.289213  137.715664           True  \n",
      "2    4.110875  165.032744           True  \n",
      "3    3.160535  139.295303           True  \n",
      "4    1.930652   73.898005          False  \n",
      "\n",
      "DF tail:             date   store_id    product_name category  quantity_sold  \\\n",
      "2435 2024-03-01  Store_005           Bread   Bakery           69.0   \n",
      "2436 2024-03-01  Store_005    Canned Beans   Pantry           51.0   \n",
      "2437 2024-03-01  Store_005            Rice   Pantry           54.0   \n",
      "2438 2024-03-01  Store_005  Chicken Breast     Meat           58.0   \n",
      "2439 2024-03-01  Store_005          Yogurt    Dairy           45.0   \n",
      "\n",
      "      unit_price     revenue  is_perishable  \n",
      "2435    2.861167  220.436326           True  \n",
      "2436    1.717193  100.861876          False  \n",
      "2437    5.623691  318.278659          False  \n",
      "2438    8.131791  532.581376           True  \n",
      "2439    5.576985  232.240151           True  \n",
      "\n",
      "DF describe:                        date  quantity_sold   unit_price      revenue\n",
      "count                 2440    2321.000000  2440.000000  2321.000000\n",
      "mean   2024-01-31 00:00:00      55.435588     4.376687   242.386291\n",
      "min    2024-01-01 00:00:00      21.000000     1.701512    47.858083\n",
      "25%    2024-01-16 00:00:00      45.000000     2.565625   130.355695\n",
      "50%    2024-01-31 00:00:00      54.000000     3.849522   211.308370\n",
      "75%    2024-02-15 00:00:00      64.000000     5.718347   314.654059\n",
      "max    2024-03-01 00:00:00     115.000000     9.874611  1045.349959\n",
      "std                    NaN      14.319095     2.239134   142.119743\n"
     ]
    }
   ],
   "source": [
    "# Data Exploration methods\n",
    "print(f\"DF head: \", df.head())\n",
    "print(f\"\\nDF tail: \", df.tail())\n",
    "print(f'\\nDF describe: ', df.describe())"
   ]
  },
  {
   "cell_type": "code",
   "execution_count": 13,
   "id": "9c61fcd5",
   "metadata": {},
   "outputs": [
    {
     "name": "stdout",
     "output_type": "stream",
     "text": [
      "=========DATASET INFO===========\n",
      "<class 'pandas.core.frame.DataFrame'>\n",
      "RangeIndex: 2440 entries, 0 to 2439\n",
      "Data columns (total 8 columns):\n",
      " #   Column         Non-Null Count  Dtype         \n",
      "---  ------         --------------  -----         \n",
      " 0   date           2440 non-null   datetime64[ns]\n",
      " 1   store_id       2440 non-null   object        \n",
      " 2   product_name   2440 non-null   object        \n",
      " 3   category       2440 non-null   object        \n",
      " 4   quantity_sold  2321 non-null   float64       \n",
      " 5   unit_price     2440 non-null   float64       \n",
      " 6   revenue        2321 non-null   float64       \n",
      " 7   is_perishable  2440 non-null   bool          \n",
      "dtypes: bool(1), datetime64[ns](1), float64(3), object(3)\n",
      "memory usage: 135.9+ KB\n",
      "None\n"
     ]
    }
   ],
   "source": [
    "print(\"=========DATASET INFO===========\")\n",
    "print(df.info())"
   ]
  },
  {
   "cell_type": "code",
   "execution_count": null,
   "id": "d080f8da",
   "metadata": {},
   "outputs": [],
   "source": []
  }
 ],
 "metadata": {
  "kernelspec": {
   "display_name": "base",
   "language": "python",
   "name": "python3"
  },
  "language_info": {
   "codemirror_mode": {
    "name": "ipython",
    "version": 3
   },
   "file_extension": ".py",
   "mimetype": "text/x-python",
   "name": "python",
   "nbconvert_exporter": "python",
   "pygments_lexer": "ipython3",
   "version": "3.11.7"
  }
 },
 "nbformat": 4,
 "nbformat_minor": 5
}
